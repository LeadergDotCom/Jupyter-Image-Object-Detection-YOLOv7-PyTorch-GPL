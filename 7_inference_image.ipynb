{
 "cells": [
  {
   "cell_type": "code",
   "execution_count": null,
   "id": "c5b39120-2d87-4a6c-be86-9cde15c314d4",
   "metadata": {},
   "outputs": [],
   "source": [
    "%matplotlib inline"
   ]
  },
  {
   "cell_type": "code",
   "execution_count": null,
   "id": "0c11ebdc-c2b5-42b0-9d2e-cc17154cfe49",
   "metadata": {},
   "outputs": [],
   "source": [
    "import matplotlib.pyplot as plt\n",
    "plt.rcParams['figure.figsize'] = (10.0, 10.0)"
   ]
  },
  {
   "cell_type": "code",
   "execution_count": null,
   "id": "83bb9c82-ac5e-4ce7-a86a-3bca441ec7ba",
   "metadata": {},
   "outputs": [],
   "source": [
    "dataset = \"plate\"\n",
    "source = \"data/%s/test/images/inclusion-2.jpg\" %(dataset)\n",
    "image_size = 512\n",
    "\n",
    "weights_file = \"data/%s/model/best.pt\" %(dataset)\n",
    "device = \"0\"\n",
    "threshold = 0.2"
   ]
  },
  {
   "cell_type": "code",
   "execution_count": null,
   "id": "da22a9f2-0b7a-49f3-9ac4-549389c31e0d",
   "metadata": {},
   "outputs": [],
   "source": [
    "%run src/detect.py --source $source --img-size $image_size --weights $weights_file --conf $threshold --device $device --view-img --nosave"
   ]
  },
  {
   "cell_type": "code",
   "execution_count": null,
   "id": "751dd026-a2e3-46eb-acc7-1914103ee919",
   "metadata": {},
   "outputs": [],
   "source": []
  }
 ],
 "metadata": {
  "kernelspec": {
   "display_name": "Python 3 (ipykernel)",
   "language": "python",
   "name": "python3"
  },
  "language_info": {
   "codemirror_mode": {
    "name": "ipython",
    "version": 3
   },
   "file_extension": ".py",
   "mimetype": "text/x-python",
   "name": "python",
   "nbconvert_exporter": "python",
   "pygments_lexer": "ipython3",
   "version": "3.9.12"
  }
 },
 "nbformat": 4,
 "nbformat_minor": 5
}
