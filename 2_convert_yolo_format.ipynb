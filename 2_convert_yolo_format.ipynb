{
 "cells": [
  {
   "cell_type": "code",
   "execution_count": null,
   "id": "dbf0e6ce-2960-457e-97a4-448917d62e89",
   "metadata": {},
   "outputs": [],
   "source": [
    "import xml.etree.ElementTree as ET\n",
    "import os\n",
    "from os.path import join\n",
    "import numpy as np\n",
    "import sys\n",
    "import src.tools"
   ]
  },
  {
   "cell_type": "code",
   "execution_count": null,
   "id": "cb2386c5-36b9-42ef-b766-a9d88f3c681f",
   "metadata": {},
   "outputs": [],
   "source": [
    "# parameters\n",
    "dataset = \"plate\""
   ]
  },
  {
   "cell_type": "code",
   "execution_count": null,
   "id": "f6fadd98-44cb-4263-beb6-6a79fec4116d",
   "metadata": {},
   "outputs": [],
   "source": [
    "label_file = 'data/%s/label.names' %(dataset)\n",
    "src.tools.Delete_ipynb_checkpoints('data/')"
   ]
  },
  {
   "cell_type": "code",
   "execution_count": null,
   "id": "af352754-c65d-4c15-8e44-79d5bac2f657",
   "metadata": {},
   "outputs": [],
   "source": [
    "def convert(size, box):\n",
    "    dw = 1./(size[0])\n",
    "    dh = 1./(size[1])\n",
    "    x = (box[0] + box[1])/2.0 - 1\n",
    "    y = (box[2] + box[3])/2.0 - 1\n",
    "    w = box[1] - box[0]\n",
    "    h = box[3] - box[2]\n",
    "    x = x*dw\n",
    "    w = w*dw\n",
    "    y = y*dh\n",
    "    h = h*dh\n",
    "    return (x,y,w,h)"
   ]
  },
  {
   "cell_type": "code",
   "execution_count": null,
   "id": "11181339-b3ad-4250-9fbc-a7de8f1f36ab",
   "metadata": {},
   "outputs": [],
   "source": [
    "def convert_annotation(image_id, image_folder, annotation_folder):\n",
    "    in_file = open('%s/%s.xml'%(annotation_folder, image_id))\n",
    "    out_file = open('%s/%s.txt'%(image_folder, image_id), 'w')\n",
    "    tree=ET.parse(in_file)\n",
    "    root = tree.getroot()\n",
    "    size = root.find('size')\n",
    "    w = int(size.find('width').text)\n",
    "    h = int(size.find('height').text)\n",
    "\n",
    "    for obj in root.iter('object'):\n",
    "        difficult = obj.find('difficult').text\n",
    "        cls = obj.find('name').text\n",
    "        if cls not in classes or int(difficult)==1:\n",
    "            continue\n",
    "        cls_id = classes.index(cls)\n",
    "        xmlbox = obj.find('bndbox')\n",
    "        b = (float(xmlbox.find('xmin').text), float(xmlbox.find('xmax').text), float(xmlbox.find('ymin').text), float(xmlbox.find('ymax').text))\n",
    "        bb = convert((w,h), b)\n",
    "        out_file.write(str(cls_id) + \" \" + \" \".join([str(a) for a in bb]) + '\\n')"
   ]
  },
  {
   "cell_type": "code",
   "execution_count": null,
   "id": "6822b982-c235-4b3a-a3b5-d8ed3af564c1",
   "metadata": {},
   "outputs": [],
   "source": [
    "f = open(label_file, 'r')\n",
    "classes = f.read().splitlines()\n",
    "f.close()\n",
    "print('classes = ', classes)"
   ]
  },
  {
   "cell_type": "code",
   "execution_count": null,
   "id": "3c818672-0fb9-46be-a98b-094ce315d6cf",
   "metadata": {},
   "outputs": [],
   "source": [
    "if os.path.exists(\"data/%s/train/annotations/image_annotation_classes.txt\" %(dataset)):\n",
    "    with open(\"data/%s/train/annotations/image_annotation_classes.txt\" %(dataset), 'r') as f:\n",
    "        annotation_classes = f.read().splitlines()\n",
    "    if (sorted(classes) != sorted(annotation_classes)):\n",
    "        print('label.names classes = ', classes)\n",
    "        print('image_annotation_classes.txt classes = ', annotation_classes)\n",
    "        print('The contents of image_annotation_classes.txt and label.names are not equal, please confirm whether the category name is correct')\n",
    "        sys.exit()"
   ]
  },
  {
   "cell_type": "code",
   "execution_count": null,
   "id": "e5d4f97d-c7ea-4a2e-a8f6-1d9e03546359",
   "metadata": {},
   "outputs": [],
   "source": [
    "train_image_folder = 'data/%s/train/images/' %(dataset)\n",
    "train_label_folder = 'data/%s/train/labels/' %(dataset)\n",
    "train_annotation_folder = 'data/%s/train/annotations/' %(dataset)\n",
    "\n",
    "valid_image_folder = 'data/%s/val/images/' %(dataset)\n",
    "valid_label_folder = 'data/%s/val/labels/' %(dataset)\n",
    "valid_annotation_folder = 'data/%s/val/annotations/' %(dataset)\n",
    "\n",
    "if not os.path.exists(train_label_folder):\n",
    "    os.mkdir(train_label_folder)\n",
    "\n",
    "if not os.path.exists(valid_label_folder):\n",
    "    os.mkdir(valid_label_folder)\n",
    "    \n",
    "if os.path.isdir(train_image_folder):\n",
    "    for root, dirs, files in os.walk(train_image_folder): \n",
    "        for file in files: \n",
    "            if os.path.splitext(file)[1].lower() == \".png\" or os.path.splitext(file)[1].lower() == \".jpg\" or os.path.splitext(file)[1].lower() == \".jpeg\":\n",
    "                convert_annotation(os.path.splitext(file)[0], train_label_folder, train_annotation_folder)\n",
    "else:\n",
    "    print('train_image_folder is not exist.')\n",
    "\n",
    "if os.path.isdir(valid_image_folder):\n",
    "    for root, dirs, files in os.walk(valid_image_folder): \n",
    "        for file in files: \n",
    "            if os.path.splitext(file)[1].lower() == \".png\" or os.path.splitext(file)[1].lower() == \".jpg\"  or os.path.splitext(file)[1].lower() == \".jpeg\":\n",
    "                convert_annotation(os.path.splitext(file)[0], valid_label_folder, valid_annotation_folder)\n",
    "else:\n",
    "    print('valid_image_folder is not exist.')\n",
    "\n",
    "print('Exported to image txt.')"
   ]
  },
  {
   "cell_type": "code",
   "execution_count": null,
   "id": "735d2381-e89d-4eff-9c20-ee203c34a951",
   "metadata": {},
   "outputs": [],
   "source": [
    "with open(\"data/%s/voc.yaml\"%(dataset), 'w')as f:\n",
    "    f.write(\"# train and val datasets (image directory or *.txt file with image paths)\\n\")\n",
    "    f.write(\"train: data/%s/train.txt\\n\" %(dataset))\n",
    "    f.write(\"val: data/%s/val.txt\\n\\n\" %(dataset))\n",
    "    f.write(\"# number of classes\\n\")\n",
    "    f.write(\"nc: %d\\n\\n\" %(len(classes)))\n",
    "    f.write(\"# class names\\n\")\n",
    "    f.write(\"names: %s\\n\"%(classes))"
   ]
  },
  {
   "cell_type": "code",
   "execution_count": null,
   "id": "9699bad9-ecf0-4e63-9010-8cc83d1250c1",
   "metadata": {},
   "outputs": [],
   "source": []
  }
 ],
 "metadata": {
  "kernelspec": {
   "display_name": "Python 3 (ipykernel)",
   "language": "python",
   "name": "python3"
  },
  "language_info": {
   "codemirror_mode": {
    "name": "ipython",
    "version": 3
   },
   "file_extension": ".py",
   "mimetype": "text/x-python",
   "name": "python",
   "nbconvert_exporter": "python",
   "pygments_lexer": "ipython3",
   "version": "3.9.12"
  }
 },
 "nbformat": 4,
 "nbformat_minor": 5
}
