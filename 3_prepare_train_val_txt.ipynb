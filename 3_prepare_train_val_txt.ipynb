{
 "cells": [
  {
   "cell_type": "code",
   "execution_count": null,
   "id": "bae98efa-f3e8-45c3-8417-16347ffa5e3c",
   "metadata": {},
   "outputs": [],
   "source": [
    "import os\n",
    "import src.tools"
   ]
  },
  {
   "cell_type": "code",
   "execution_count": null,
   "id": "bfc32e7d-e03b-4f4b-bad7-df1840dd4d44",
   "metadata": {},
   "outputs": [],
   "source": [
    "dataset = \"plate\""
   ]
  },
  {
   "cell_type": "code",
   "execution_count": null,
   "id": "60a4d6ab-a1f8-4f8b-98ab-334510f71956",
   "metadata": {},
   "outputs": [],
   "source": [
    "src.tools.Delete_ipynb_checkpoints('data/')"
   ]
  },
  {
   "cell_type": "code",
   "execution_count": null,
   "id": "ea2b38d7-74e4-46bf-9ea0-e7d97a6b654e",
   "metadata": {},
   "outputs": [],
   "source": [
    "def generate_txt(image_path, dataset, name):\n",
    "    filename_string = \"\"\n",
    "    for root, dirs, files in os.walk(image_path): \n",
    "        for file in files: \n",
    "            if os.path.splitext(file)[1].lower() == \".png\" or os.path.splitext(file)[1].lower() == \".jpg\"  or os.path.splitext(file)[1].lower() == \".jpeg\":\n",
    "                #filename_string += os.path.splitext(file)[0] + '\\n' \n",
    "                filename_string += os.path.join(image_path,file) + '\\n' \n",
    "    \n",
    "    with open(\"data/%s/%s.txt\"%(dataset,name), 'w') as f:\n",
    "        f.write(filename_string)\n",
    "    f.close()\n",
    "    print('Exported to %s.txt.'%(name))"
   ]
  },
  {
   "cell_type": "code",
   "execution_count": null,
   "id": "ca08b632-6fc6-4779-bdcb-b2a3f7243136",
   "metadata": {},
   "outputs": [],
   "source": [
    "generate_txt(\"data/%s/train/images/\"%(dataset), dataset, \"train\")\n",
    "generate_txt(\"data/%s/val/images/\"%(dataset), dataset, \"val\")"
   ]
  }
 ],
 "metadata": {
  "kernelspec": {
   "display_name": "Python 3 (ipykernel)",
   "language": "python",
   "name": "python3"
  },
  "language_info": {
   "codemirror_mode": {
    "name": "ipython",
    "version": 3
   },
   "file_extension": ".py",
   "mimetype": "text/x-python",
   "name": "python",
   "nbconvert_exporter": "python",
   "pygments_lexer": "ipython3",
   "version": "3.9.12"
  }
 },
 "nbformat": 4,
 "nbformat_minor": 5
}
