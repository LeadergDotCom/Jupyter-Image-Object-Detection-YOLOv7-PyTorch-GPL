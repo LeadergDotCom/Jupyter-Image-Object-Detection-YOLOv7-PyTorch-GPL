{
 "cells": [
  {
   "cell_type": "code",
   "execution_count": null,
   "id": "946114ce-8031-4ac0-b828-590db9f226a4",
   "metadata": {},
   "outputs": [],
   "source": [
    "# parameter\n",
    "dataset = \"plate\"\n",
    "\n",
    "webcam_id = \"0\"\n",
    "image_size = 512\n",
    "\n",
    "weights_file = \"data/%s/model/best.pt\" %(dataset)\n",
    "device = \"0\"\n",
    "threshold = 0.3\n"
   ]
  },
  {
   "cell_type": "code",
   "execution_count": null,
   "id": "99c9c373-aeb2-4379-893d-10c8ee816d2f",
   "metadata": {},
   "outputs": [],
   "source": [
    "%run src/detect.py --source $webcam_id --img-size $image_size  --weights $weights_file --conf $threshold --device $device --nosave"
   ]
  },
  {
   "cell_type": "code",
   "execution_count": null,
   "id": "6a93a5fc-db9b-4e1c-ab79-57a6c3b3ef98",
   "metadata": {},
   "outputs": [],
   "source": []
  }
 ],
 "metadata": {
  "kernelspec": {
   "display_name": "Python 3 (ipykernel)",
   "language": "python",
   "name": "python3"
  },
  "language_info": {
   "codemirror_mode": {
    "name": "ipython",
    "version": 3
   },
   "file_extension": ".py",
   "mimetype": "text/x-python",
   "name": "python",
   "nbconvert_exporter": "python",
   "pygments_lexer": "ipython3",
   "version": "3.9.12"
  }
 },
 "nbformat": 4,
 "nbformat_minor": 5
}
