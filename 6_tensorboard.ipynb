{
 "cells": [
  {
   "cell_type": "code",
   "execution_count": null,
   "id": "d4507f29-1b93-4686-ac1d-df4b283d3d7e",
   "metadata": {},
   "outputs": [],
   "source": [
    "import os"
   ]
  },
  {
   "cell_type": "code",
   "execution_count": null,
   "id": "d267e645-4d9c-4caf-979c-d0d40f5a371e",
   "metadata": {},
   "outputs": [],
   "source": [
    "res = os.system('taskkill /IM \"tensorboard.exe\" /F')\n",
    "res = os.system('del /q %TMP%\\.tensorboard-info\\*')"
   ]
  },
  {
   "cell_type": "code",
   "execution_count": null,
   "id": "a3279364-1a00-400f-b874-2e3c6401a182",
   "metadata": {},
   "outputs": [],
   "source": [
    "%load_ext tensorboard"
   ]
  },
  {
   "cell_type": "code",
   "execution_count": null,
   "id": "006adcc2-5ba0-43aa-b7a9-e0e14fb1c988",
   "metadata": {},
   "outputs": [],
   "source": [
    "# If timeout, please execute \"Kernel -> Restart Kernal and Run All Cells\"."
   ]
  },
  {
   "cell_type": "code",
   "execution_count": null,
   "id": "33dca542-a509-44d8-a4c1-175e1ee4dd36",
   "metadata": {},
   "outputs": [],
   "source": [
    "tensorboard --logdir=data/plate/logs/ --port 6066"
   ]
  },
  {
   "cell_type": "code",
   "execution_count": null,
   "id": "a75a4cfd-8dae-4aad-b85f-bc233e3f9b2e",
   "metadata": {},
   "outputs": [],
   "source": []
  }
 ],
 "metadata": {
  "kernelspec": {
   "display_name": "Python 3 (ipykernel)",
   "language": "python",
   "name": "python3"
  },
  "language_info": {
   "codemirror_mode": {
    "name": "ipython",
    "version": 3
   },
   "file_extension": ".py",
   "mimetype": "text/x-python",
   "name": "python",
   "nbconvert_exporter": "python",
   "pygments_lexer": "ipython3",
   "version": "3.9.12"
  }
 },
 "nbformat": 4,
 "nbformat_minor": 5
}
