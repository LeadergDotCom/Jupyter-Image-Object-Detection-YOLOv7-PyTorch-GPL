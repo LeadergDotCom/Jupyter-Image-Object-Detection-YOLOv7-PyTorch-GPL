{
 "cells": [
  {
   "cell_type": "code",
   "execution_count": null,
   "id": "21dd5c78-2510-48af-98bb-4bd4b80353fb",
   "metadata": {},
   "outputs": [],
   "source": [
    "import subprocess\n",
    "import os\n",
    "import threading\n",
    "import webbrowser\n",
    "import time\n",
    "import socket\n",
    "import sys"
   ]
  },
  {
   "cell_type": "code",
   "execution_count": null,
   "id": "3b036d5e-c898-4e03-9c91-598b07a7d6bc",
   "metadata": {},
   "outputs": [],
   "source": [
    "# parameters\n",
    "port = 8801\n",
    "dataset = \"plate\"\n",
    "label_folder = \"train\" #\"val\"\n",
    "annotation_type = 'PascalVOCXML'"
   ]
  },
  {
   "cell_type": "code",
   "execution_count": null,
   "id": "cf3b43d3-59a2-440a-9bf9-170efa4c35b0",
   "metadata": {},
   "outputs": [],
   "source": [
    "def net_is_used(port, ip):\n",
    "    s = socket.socket(socket.AF_INET,socket.SOCK_STREAM)\n",
    "    try:\n",
    "        s.connect((ip,port))\n",
    "        s.shutdown(2)\n",
    "        print('Error! %s port %d is used' % (ip, port))\n",
    "        return True\n",
    "    except Exception:\n",
    "        print('%s:%d is unused' % (ip, port))\n",
    "        return False"
   ]
  },
  {
   "cell_type": "code",
   "execution_count": null,
   "id": "e6501f2b-fdb5-4183-8023-6f1812eb95b5",
   "metadata": {},
   "outputs": [],
   "source": [
    "ip = '127.0.0.1'\n",
    "url =  ip + str(port) \n",
    "\n",
    "if net_is_used(port, ip):\n",
    "    sys.exit()\n",
    "\n",
    "url =  'http:\\\\' + ip + ':' + str(port) \n",
    "print(url)  "
   ]
  },
  {
   "cell_type": "code",
   "execution_count": null,
   "id": "0ae37f7e-a147-4a8d-aafc-7b9d7117a56b",
   "metadata": {},
   "outputs": [],
   "source": [
    "def open_browswer():\n",
    "    time.sleep(3)\n",
    "    webbrowser.open_new_tab(url)\n",
    "t = threading.Thread(target = open_browswer)    \n",
    "t.start()"
   ]
  },
  {
   "cell_type": "code",
   "execution_count": null,
   "id": "5007c6a5-bf94-43b7-9b94-255dc30b6c2d",
   "metadata": {},
   "outputs": [],
   "source": [
    "image_folder = 'data/%s/%s/images/' % (dataset, label_folder)\n",
    "annotation_path = 'data/%s/%s/annotations/' % (dataset, label_folder)\n",
    "\n",
    "image_path1 = os.path.join(os.getcwd(), image_folder)\n",
    "annotation_path1 = os.path.join(os.getcwd(), annotation_path)\n",
    "\n",
    "folderpath = \"../../gpu/bin/annotation/\"\n",
    "if not os.path.isdir(folderpath):\n",
    "    folderpath = \"../../cpu/bin/annotation/\"\n",
    "    if not os.path.isdir(folderpath):\n",
    "        print(\"ERROR! Please download Python environment!\")\n",
    "        sys.exit()\n",
    "\n",
    "cmd =  '\"'+ folderpath +'image-annotation-server.exe\"' + ' ' + '--port' + ' '+ str(port) + ' ' + '--image_path' + ' '+ image_path1 + ' ' + '--annotation_type' + ' ' + annotation_type + ' '+ '--annotation_path' + ' ' + annotation_path1\n",
    "print(cmd)\n",
    "subprocess.run(cmd, creationflags = subprocess.CREATE_NEW_CONSOLE)"
   ]
  }
 ],
 "metadata": {
  "kernelspec": {
   "display_name": "Python 3 (ipykernel)",
   "language": "python",
   "name": "python3"
  },
  "language_info": {
   "codemirror_mode": {
    "name": "ipython",
    "version": 3
   },
   "file_extension": ".py",
   "mimetype": "text/x-python",
   "name": "python",
   "nbconvert_exporter": "python",
   "pygments_lexer": "ipython3",
   "version": "3.9.12"
  }
 },
 "nbformat": 4,
 "nbformat_minor": 5
}
