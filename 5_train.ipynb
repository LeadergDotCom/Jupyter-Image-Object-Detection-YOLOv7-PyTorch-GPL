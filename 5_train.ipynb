{
 "cells": [
  {
   "cell_type": "code",
   "execution_count": null,
   "id": "4e57e750-4045-45d5-bf10-39b05e21e4c0",
   "metadata": {},
   "outputs": [],
   "source": [
    "import src.tools"
   ]
  },
  {
   "cell_type": "code",
   "execution_count": null,
   "id": "ca6f3a18-3a8e-4e94-994e-755125e5c868",
   "metadata": {},
   "outputs": [],
   "source": [
    "src.tools.Delete_ipynb_checkpoints('data/')"
   ]
  },
  {
   "cell_type": "code",
   "execution_count": null,
   "id": "e2643a54-732d-41e8-bbc2-d36d4411c4f3",
   "metadata": {},
   "outputs": [],
   "source": [
    "# parameter\n",
    "batch_size = 16\n",
    "image_size = 512\n",
    "dataset = \"plate\"\n",
    "\n",
    "yaml_file = \"data/%s/voc.yaml\" %(dataset)\n",
    "cfg_file = \"data/%s/yolov7.yaml\"  %(dataset)\n",
    "weights_file = None\n",
    "#weights_file = \"data/%s/model/yolov7x.pt\" %(dataset)\n",
    "#weights_file = \"data/%s/model/best.pt\" %(dataset)\n",
    "device = \"0\"\n",
    "name = \"yolov7\"\n",
    "hyp = \"data/%s/hyp.scratch.p5.yaml\" %(dataset)\n",
    "save_model_path = \"data/%s/model\" %(dataset)\n",
    "log_path = \"data/%s/logs\" %(dataset)\n",
    "epochs = 2000\n",
    "workers = 1\n"
   ]
  },
  {
   "cell_type": "code",
   "execution_count": null,
   "id": "c106172c-7228-425e-848a-e9fc98a0f2ff",
   "metadata": {},
   "outputs": [],
   "source": [
    "%run src/train.py --batch-size $batch_size --img $image_size $image_size --data $yaml_file --cfg $cfg_file --weights $weights_file --device $device --name $name --hyp $hyp --epochs $epochs --workers $workers --project $save_model_path --log_folder $log_path --exist-ok"
   ]
  },
  {
   "cell_type": "code",
   "execution_count": null,
   "id": "12f25a8a-da2f-4d62-8ca7-dcafe8060f6a",
   "metadata": {},
   "outputs": [],
   "source": []
  }
 ],
 "metadata": {
  "kernelspec": {
   "display_name": "Python 3 (ipykernel)",
   "language": "python",
   "name": "python3"
  },
  "language_info": {
   "codemirror_mode": {
    "name": "ipython",
    "version": 3
   },
   "file_extension": ".py",
   "mimetype": "text/x-python",
   "name": "python",
   "nbconvert_exporter": "python",
   "pygments_lexer": "ipython3",
   "version": "3.9.12"
  }
 },
 "nbformat": 4,
 "nbformat_minor": 5
}
